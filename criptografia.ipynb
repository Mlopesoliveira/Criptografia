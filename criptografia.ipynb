{
  "nbformat": 4,
  "nbformat_minor": 0,
  "metadata": {
    "colab": {
      "provenance": [],
      "authorship_tag": "ABX9TyNXs610FG9Ornk7K0wDG8j9",
      "include_colab_link": true
    },
    "kernelspec": {
      "name": "python3",
      "display_name": "Python 3"
    },
    "language_info": {
      "name": "python"
    }
  },
  "cells": [
    {
      "cell_type": "markdown",
      "metadata": {
        "id": "view-in-github",
        "colab_type": "text"
      },
      "source": [
        "<a href=\"https://colab.research.google.com/github/Mlopesoliveira/Criptografia/blob/main/criptografia.ipynb\" target=\"_parent\"><img src=\"https://colab.research.google.com/assets/colab-badge.svg\" alt=\"Open In Colab\"/></a>"
      ]
    },
    {
      "cell_type": "code",
      "source": [
        "##essa função recebe uma chave e uma mensagem (a chavae já está pré estabelecida)\n",
        "def encrypt(message, key):\n",
        "    encrypted_message = \"\" #string vazia para armazenar a mensagem\n",
        "    for i, char in enumerate(message): ##Inicia um loop que percorre cada caractere da mensagem de entrada\n",
        "        encrypted_char = chr(ord(char) + int(key[i % len(key)])) ## a função 'enumerate()' retorna uma tupla contendo o índice do caractere '(i)' e o próprio caractere '(char)'\n",
        "        encrypted_message += encrypted_char  ##converte o caractere atual (char) em seu valor numérico usando a função ord()\n",
        "        ##adiciona o valor numérico da chave correspondente (key[i % len(key)]) convertido para inteiro\n",
        "        ##operador % é usado para garantir que a chave seja repetida quando o comprimento da chave for menor que o comprimento da mensagem\n",
        "        ##o resultado da soma é convertido novamente em um caractere usando a função chr()\n",
        "    return encrypted_message ##retorna a mensagem criptografada\n",
        "\n",
        "def decrypt(encrypted_message, key):\n",
        "    decrypted_message = \"\"\n",
        "    for i, char in enumerate(encrypted_message):\n",
        "        decrypted_char = chr(ord(char) - int(key[i % len(key)]))\n",
        "        decrypted_message += decrypted_char\n",
        "    return decrypted_message ##retorna a mensagem criptografada\n",
        "##com o fim do loop todos os caracteres são adicionados a string 'encrypted_message' seja para criptografar ou descriptografar\n",
        "def main():\n",
        "    choice = input(\"Digite 'a' para criptografar uma mensagem ou 'b' para descriptografar: \")\n",
        "\n",
        "    if choice.lower() == \"a\":\n",
        "        message = input(\"Digite sua mensagem: \")\n",
        "        key = [5, 10, 8, 1, 10]  # chave\n",
        "        encrypted_message = encrypt(message, key)\n",
        "        print(\"Mensagem criptografada:\", encrypted_message)\n",
        "    elif choice.lower() == \"b\":\n",
        "        encrypted_message = input(\"Digite a mensagem criptografada: \")\n",
        "        key = [5, 10, 8, 1, 10]  # chave\n",
        "        decrypted_message = decrypt(encrypted_message, key)\n",
        "        print(\"Mensagem descriptografada:\", decrypted_message)\n",
        "    else:\n",
        "        print(\"ERRO. Por favor, escolha 'a' para criptografar ou 'b' para descriptografar.\")\n",
        "\n",
        "if __name__ == \"__main__\":\n",
        "    main()"
      ],
      "metadata": {
        "colab": {
          "base_uri": "https://localhost:8080/"
        },
        "id": "_C91JGBCp6j_",
        "outputId": "5e5d67a8-e36e-4e59-8dcc-ff744070027b"
      },
      "execution_count": null,
      "outputs": [
        {
          "output_type": "stream",
          "name": "stdout",
          "text": [
            "Digite 'a' para criptografar uma mensagem ou 'b' para descriptografar: b\n",
            "Digite a mensagem criptografada: ts(q|tpmt}t|\n",
            "Mensagem descriptografada: oi professor\n"
          ]
        }
      ]
    }
  ]
}